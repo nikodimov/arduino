{
  "nbformat": 4,
  "nbformat_minor": 0,
  "metadata": {
    "colab": {
      "provenance": [],
      "include_colab_link": true
    },
    "kernelspec": {
      "display_name": "Python 3",
      "name": "python3"
    },
    "language_info": {
      "name": "python"
    }
  },
  "cells": [
    {
      "cell_type": "markdown",
      "metadata": {
        "id": "view-in-github",
        "colab_type": "text"
      },
      "source": [
        "<a href=\"https://colab.research.google.com/github/nikodimov/arduino/blob/main/%D0%9A%D0%BE%D0%BF%D0%B8%D1%8F_%D0%B1%D0%BB%D0%BE%D0%BA%D0%BD%D0%BE%D1%82%D0%B0_%22%D0%91%D0%B0%D0%B7%D0%BE%D0%B2%D1%8B%D0%B9_%D0%B1%D0%BB%D0%BE%D0%BA_%7C_%D0%A1%D0%B8%D0%BD%D1%82%D0%B0%D0%BA%D1%81%D0%B8%D1%81_Python_%7C_%D0%94%D0%97_Pro_%7C_%D0%A3%D0%98%D0%98%22.ipynb\" target=\"_parent\"><img src=\"https://colab.research.google.com/assets/colab-badge.svg\" alt=\"Open In Colab\"/></a>"
      ]
    },
    {
      "cell_type": "markdown",
      "metadata": {
        "id": "39zJTivLrXFV"
      },
      "source": [
        "### Задача 1"
      ]
    },
    {
      "cell_type": "markdown",
      "metadata": {
        "id": "8YhhSW05rc1o"
      },
      "source": [
        "Напишите программу, которая просит пользователя ввести произвольную цифру от 1 до 9, а затем выводит таблицу умножения для введенного числа.\n",
        "\n",
        "Добавьте проверку введенной пользователем информации:\n",
        "* данные должны быть целочисленного типа\n",
        "* число должно находиться в диапазоне от 1 до 9"
      ]
    },
    {
      "cell_type": "code",
      "metadata": {
        "id": "ye9ErHpKBhhU",
        "colab": {
          "base_uri": "https://localhost:8080/"
        },
        "outputId": "8008d705-5817-4fb4-abd9-9e2492e0a7aa"
      },
      "source": [
        "# Ваше решение\n",
        "def multiplication_table(number):\n",
        "    print('\\nТаблица умножения для числа', number)\n",
        "    for i in range(1, 11):\n",
        "        print('{:9} x {:2} = {:2}'.format(number, i, number * i))\n",
        "    print()\n",
        "\n",
        "\n",
        "inp_str = input('Введите цифру от 1 до 9: ')\n",
        "if inp_str.isdigit():\n",
        "    digit = int(inp_str)\n",
        "    if digit > 0 and digit < 10:\n",
        "        multiplication_table(digit)\n",
        "    else:\n",
        "        print('Цифра должна быть от 1 до 9 включительно!')\n",
        "else:\n",
        "    print('Нужно ввести цифру!')\n"
      ],
      "execution_count": null,
      "outputs": [
        {
          "output_type": "stream",
          "name": "stdout",
          "text": [
            "Введите цифру от 1 до 9: 5\n",
            "\n",
            "Таблица умножения для числа 5\n",
            "        5 x  1 =  5\n",
            "        5 x  2 = 10\n",
            "        5 x  3 = 15\n",
            "        5 x  4 = 20\n",
            "        5 x  5 = 25\n",
            "        5 x  6 = 30\n",
            "        5 x  7 = 35\n",
            "        5 x  8 = 40\n",
            "        5 x  9 = 45\n",
            "        5 x 10 = 50\n",
            "\n"
          ]
        }
      ]
    },
    {
      "cell_type": "markdown",
      "metadata": {
        "id": "dT9n_KJtpS-N"
      },
      "source": [
        "### Задача 2"
      ]
    },
    {
      "cell_type": "markdown",
      "metadata": {
        "id": "OTSU9QTLhdqe"
      },
      "source": [
        "Напишите программу, которая ищет все числа в интервале от 300 до 430 включительно, делящиеся на 11, но не делящиеся на 5. Выведите на экран все найденные числа."
      ]
    },
    {
      "cell_type": "code",
      "metadata": {
        "id": "lFWrMa8Uh9dc",
        "colab": {
          "base_uri": "https://localhost:8080/"
        },
        "outputId": "138809ba-6824-4287-f6f3-bb5062d05a68"
      },
      "source": [
        "# Ваше решение\n",
        "def find_div11n5(start, stop):\n",
        "    res = []\n",
        "    for i in range(start, stop + 1):\n",
        "        if i % 11 == 0 and i % 5 != 0:\n",
        "            res.append(i)\n",
        "    return res\n",
        "\n",
        "\n",
        "print('Числа от 300 до 430 включительно, делящиеся на 11, но не делящиеся на 5')\n",
        "print(find_div11n5(300, 430))\n"
      ],
      "execution_count": null,
      "outputs": [
        {
          "output_type": "stream",
          "name": "stdout",
          "text": [
            "Числа от 300 до 430 включительно, делящиеся на 11, но не делящиеся на 5\n",
            "[308, 319, 341, 352, 363, 374, 396, 407, 418, 429]\n"
          ]
        }
      ]
    },
    {
      "cell_type": "markdown",
      "metadata": {
        "id": "BDz6HXvPxsYs"
      },
      "source": [
        "### Задача 3"
      ]
    },
    {
      "cell_type": "markdown",
      "metadata": {
        "id": "_b21x2ryxziN"
      },
      "source": [
        "Напишите функцию, которая принимает один параметр (год) и определяет, является ли этот год високосным.\n",
        "\n",
        "Напомним, что ***високосными*** годами считаются те, порядковый номер которых либо кратен **4**, но при этом не кратен **100**, либо кратен **400** (например, 2000-й год являлся високосным, а 2100-й будет не високосным годом).\n",
        "\n",
        "Программа должна корректно работать на числах **1900 ≤ n ≤ 3000**.\n",
        "\n",
        "Функция должна вывести на экран \"Високосный\" в случае, если год является високосным и \"Обычный\" в противном случае."
      ]
    },
    {
      "cell_type": "code",
      "metadata": {
        "id": "W2LFTkVAeDE_",
        "colab": {
          "base_uri": "https://localhost:8080/"
        },
        "outputId": "f261f408-a5ef-4ea9-ed1e-0f9250f2a602"
      },
      "source": [
        "# Ваше решение\n",
        "def isleap_year(year):\n",
        "    if (year % 4 == 0 and year % 100 != 0) or (year % 400 == 0):\n",
        "        return True\n",
        "    else:\n",
        "        return False\n",
        "\n",
        "\n",
        "inp_str = input('Введите год: ')\n",
        "if inp_str.isdigit():\n",
        "    number = int(inp_str)\n",
        "    if number > 0:\n",
        "        if isleap_year(number):\n",
        "            print('Високосный')\n",
        "        else:\n",
        "            print('Обычный')\n",
        "    else:\n",
        "        print('Год должен быть больше 0!')\n",
        "else:\n",
        "    print('Нужно ввести цифру!')\n"
      ],
      "execution_count": null,
      "outputs": [
        {
          "output_type": "stream",
          "name": "stdout",
          "text": [
            "Введите год: 1980\n",
            "Високосный\n"
          ]
        }
      ]
    },
    {
      "cell_type": "markdown",
      "metadata": {
        "id": "9sr2U6oz1Iqu"
      },
      "source": [
        "### Задача 4"
      ]
    },
    {
      "cell_type": "markdown",
      "metadata": {
        "id": "fHMBDh-ahdrz"
      },
      "source": [
        "Создайте словарь (dict) c ключами, соответствующими числам от 1 до 10 включительно и значениями, соответствующими квадратам ключей. "
      ]
    },
    {
      "cell_type": "code",
      "metadata": {
        "id": "qpzOKGoXgzwQ",
        "colab": {
          "base_uri": "https://localhost:8080/"
        },
        "outputId": "184bc65d-5ec7-42d9-856e-87e33d43791f"
      },
      "source": [
        "# Ваше решение\n",
        "my_dict = {i: i**2 for i in range(1, 11)}\n",
        "\n",
        "print(my_dict)\n"
      ],
      "execution_count": null,
      "outputs": [
        {
          "output_type": "stream",
          "name": "stdout",
          "text": [
            "{1: 1, 2: 4, 3: 9, 4: 16, 5: 25, 6: 36, 7: 49, 8: 64, 9: 81, 10: 100}\n"
          ]
        }
      ]
    },
    {
      "cell_type": "markdown",
      "metadata": {
        "id": "1GnNaeQ4zwt1"
      },
      "source": [
        "### Задача 5"
      ]
    },
    {
      "cell_type": "markdown",
      "metadata": {
        "id": "Rz5_LNzlr7GR"
      },
      "source": [
        "Напишите функцию простейшего калькулятора. Пользователь вводит число **a**, число **b** и вид арифметической операции над ними. Функция возвращает результат вычисления. "
      ]
    },
    {
      "cell_type": "code",
      "metadata": {
        "id": "DD8u-nSnl41M",
        "colab": {
          "base_uri": "https://localhost:8080/"
        },
        "outputId": "90d82237-2660-4766-840e-f068b253d01d"
      },
      "source": [
        "# Ваше решение\n",
        "def calculator(value1, value2, action):\n",
        "    status = 'OK'\n",
        "    value = 0\n",
        "\n",
        "    if action == '+':\n",
        "        value = value1 + value2\n",
        "    elif action == '-':\n",
        "        value = value1 - value2\n",
        "    elif action == '*':\n",
        "        value = value1 * value2\n",
        "    elif action == '/':\n",
        "        if value2 == 0:\n",
        "            status = 'Деление на ноль невозможно'\n",
        "        else:\n",
        "            value = value1 / value2\n",
        "    elif action == '**':\n",
        "        value = value1 ** value2\n",
        "    elif action == '%':\n",
        "        value = value1 % value2\n",
        "    elif action == '//':\n",
        "        value = value1 // value2\n",
        "    else:\n",
        "        status = 'Неправильная операция'\n",
        "\n",
        "    return status, value\n",
        "\n",
        "\n",
        "def is_number(string):\n",
        "    try:\n",
        "        float(string)\n",
        "        return True\n",
        "    except ValueError:\n",
        "        return False\n",
        "\n",
        "\n",
        "print('Простейший калькулятор (цифры и знак операции разделять пробелами)')\n",
        "print('Пример: 2 + 2')\n",
        "print('Для выхода введите \"q\"')\n",
        "while True:\n",
        "\n",
        "    inp_str = input().split()\n",
        "\n",
        "    if inp_str[0].lower() == 'q':\n",
        "        break\n",
        "    else:\n",
        "        if is_number(inp_str[0]):\n",
        "            number1 = float(inp_str[0])\n",
        "        else:\n",
        "            print('Первое значение должно быть числом, повторите ввод')\n",
        "            continue\n",
        "\n",
        "        operation = inp_str[1]\n",
        "\n",
        "        if is_number(inp_str[2]):\n",
        "            number2 = float(inp_str[2])\n",
        "        else:\n",
        "            print('Второе значение должно быть числом, повторите ввод')\n",
        "            continue\n",
        "\n",
        "        result, val = calculator(number1, number2, operation)\n",
        "\n",
        "        if result == 'OK':\n",
        "            if val.is_integer():\n",
        "                print(int(val))\n",
        "            else:\n",
        "                print(val)\n",
        "        else:\n",
        "            print(result)\n"
      ],
      "execution_count": null,
      "outputs": [
        {
          "name": "stdout",
          "output_type": "stream",
          "text": [
            "Простейший калькулятор (цифры и знак операции разделять пробелами)\n",
            "Пример: 2 + 2\n",
            "Для выхода введите \"q\"\n",
            "6 * 8\n",
            "48\n",
            "q\n"
          ]
        }
      ]
    },
    {
      "cell_type": "code",
      "metadata": {
        "id": "bIIN_rNzYm5G"
      },
      "source": [],
      "execution_count": null,
      "outputs": []
    }
  ]
}